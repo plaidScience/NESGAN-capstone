{
 "cells": [
  {
   "cell_type": "code",
   "execution_count": 3,
   "metadata": {},
   "outputs": [],
   "source": [
    "import nesmdb\n",
    "import pickle\n",
    "import os\n",
    "import inspect\n",
    "import tempfile\n",
    "import subprocess\n",
    "import numpy as np"
   ]
  },
  {
   "cell_type": "code",
   "execution_count": 4,
   "metadata": {},
   "outputs": [],
   "source": [
    "def openScore (fileName, fileFolder = 'databases/nesmdb24_seprsco/train/'):\n",
    "    with open(fileFolder+fileName, 'rb') as f:\n",
    "        rate, nsamps, seprsco = pickle.load(f)\n",
    "    return 24., nsamps+50000000, seprsco"
   ]
  },
  {
   "cell_type": "code",
   "execution_count": 5,
   "metadata": {},
   "outputs": [],
   "source": [
    "def convertVGM(folderRead, folderWrite):\n",
    "    directory = os.path.dirname(folderWrite)\n",
    "    if not os.path.exists(directory):\n",
    "        os.mkdir(directory) \n",
    "    if folderWrite is None:\n",
    "        folderWrite=folderRead  \n",
    "    i = 0\n",
    "    for fileName in os.listdir(folderRead):\n",
    "        seprsco = openScore(fileName, folderRead)\n",
    "        np.savetxt(\"foo\"+str(i)+\".csv\", seprsco[2], delimiter=\",\")\n",
    "        exprsco = nesmdb.score.seprsco_to_exprsco(seprsco)\n",
    "        rawsco = nesmdb.score.exprsco_to_rawsco(exprsco)\n",
    "        ndf = nesmdb.score.rawsco_to_ndf(rawsco)\n",
    "        ndr = nesmdb.vgm.ndf_to_ndr(ndf)\n",
    "        vgm = nesmdb.vgm.ndr_to_vgm(ndr)\n",
    "        \n",
    "        with open(os.path.join(folderWrite, fileName.split(\".\")[0]+\".vgm\"), \"w\") as vf:\n",
    "            vf.write(vgm)\n",
    "        i +=1"
   ]
  },
  {
   "cell_type": "code",
   "execution_count": 6,
   "metadata": {},
   "outputs": [],
   "source": [
    "convertVGM(\"pkl2saved2/\", \"savedVGM2/\")"
   ]
  },
  {
   "cell_type": "code",
   "execution_count": 8,
   "metadata": {},
   "outputs": [],
   "source": [
    "bin_dir = os.path.dirname(inspect.getfile(nesmdb))\n",
    "bin_fp = os.path.join('.', bin_dir, 'vgm2wav.exe')"
   ]
  },
  {
   "cell_type": "code",
   "execution_count": 7,
   "metadata": {},
   "outputs": [
    {
     "name": "stdout",
     "output_type": "stream",
     "text": [
      ".\\nesmdb\\vgm2wav\\vgm2wav.exe\n"
     ]
    }
   ],
   "source": [
    "print(bin_fp)"
   ]
  },
  {
   "cell_type": "code",
   "execution_count": 10,
   "metadata": {},
   "outputs": [
    {
     "data": {
      "text/plain": [
       "True"
      ]
     },
     "execution_count": 10,
     "metadata": {},
     "output_type": "execute_result"
    }
   ],
   "source": [
    "os.path.isfile(bin_fp)"
   ]
  },
  {
   "cell_type": "code",
   "execution_count": 7,
   "metadata": {},
   "outputs": [],
   "source": [
    "vf = open(\"tmp.nsf\", \"w\")\n",
    "vf.write(vgm)"
   ]
  },
  {
   "cell_type": "code",
   "execution_count": 8,
   "metadata": {},
   "outputs": [],
   "source": [
    "vf.close()"
   ]
  },
  {
   "cell_type": "code",
   "execution_count": null,
   "metadata": {},
   "outputs": [],
   "source": []
  },
  {
   "cell_type": "code",
   "execution_count": null,
   "metadata": {},
   "outputs": [],
   "source": []
  }
 ],
 "metadata": {
  "kernelspec": {
   "display_name": "Python [conda env:py2]",
   "language": "python",
   "name": "conda-env-py2-py"
  },
  "language_info": {
   "codemirror_mode": {
    "name": "ipython",
    "version": 2
   },
   "file_extension": ".py",
   "mimetype": "text/x-python",
   "name": "python",
   "nbconvert_exporter": "python",
   "pygments_lexer": "ipython2",
   "version": "2.7.18"
  }
 },
 "nbformat": 4,
 "nbformat_minor": 4
}
