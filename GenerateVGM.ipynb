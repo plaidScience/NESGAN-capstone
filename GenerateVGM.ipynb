{
 "cells": [
  {
   "cell_type": "code",
   "execution_count": 1,
   "metadata": {},
   "outputs": [],
   "source": [
    "import nesmdb\n",
    "import pickle\n",
    "import os\n",
    "import inspect\n",
    "import tempfile\n",
    "import subprocess\n",
    "import numpy as np"
   ]
  },
  {
   "cell_type": "code",
   "execution_count": 2,
   "metadata": {},
   "outputs": [],
   "source": [
    "def openScore (fileName, fileFolder = 'databases/nesmdb24_seprsco/train/'):\n",
    "    with open(fileFolder+fileName, 'rb') as f:\n",
    "        rate, nsamps, seprsco = pickle.load(f)\n",
    "    return rate, nsamps, seprsco"
   ]
  },
  {
   "cell_type": "code",
   "execution_count": 3,
   "metadata": {},
   "outputs": [],
   "source": [
    "def openScoreCSV (fileName, fileFolder = 'databases/nesmdb24_seprsco/train/'):\n",
    "    seprsco = np.genfromtxt(fileFolder+fileName, delimiter=',')\n",
    "    rate = 24.\n",
    "    nsamps = 44100.*seprsco.shape[0]\n",
    "    return rate, nsamps, seprsco"
   ]
  },
  {
   "cell_type": "code",
   "execution_count": 4,
   "metadata": {},
   "outputs": [],
   "source": [
    "def convertVGM(folderRead, folderWrite=None):\n",
    "    if folderWrite is None:\n",
    "        folderWrite=folderRead \n",
    "    directory = os.path.dirname(folderWrite)\n",
    "    if not os.path.exists(directory):\n",
    "        os.mkdir(directory)  \n",
    "    i = 0\n",
    "    for fileName in os.listdir(folderRead):\n",
    "        seprsco = openScore(fileName, folderRead)\n",
    "        exprsco = nesmdb.score.seprsco_to_exprsco(seprsco)\n",
    "        rawsco = nesmdb.score.exprsco_to_rawsco(exprsco)\n",
    "        ndf = nesmdb.score.rawsco_to_ndf(rawsco)\n",
    "        ndr = nesmdb.vgm.ndf_to_ndr(ndf)\n",
    "        vgm = nesmdb.vgm.ndr_to_vgm(ndr)\n",
    "        \n",
    "        with open(os.path.join(folderWrite, fileName.split(\".\")[0]+\".vgm\"), \"w\") as vf:\n",
    "            vf.write(vgm)\n",
    "        subprocess.call([\"vgmplay/VGMPlay.exe\", os.path.abspath(os.path.join(folderWrite, fileName.split(\".\")[0]+\".vgm\"))])\n",
    "        i +=1"
   ]
  },
  {
   "cell_type": "code",
   "execution_count": 5,
   "metadata": {},
   "outputs": [],
   "source": [
    "def convertVGMCSV(folderRead, folderWrite=None):\n",
    "    if folderWrite is None:\n",
    "        folderWrite=folderRead  \n",
    "    directory = os.path.dirname(folderWrite)\n",
    "    if not os.path.exists(directory):\n",
    "        os.mkdir(directory) \n",
    "    i = 0\n",
    "    for fileName in os.listdir(folderRead):\n",
    "        seprsco = openScoreCSV(fileName, folderRead)\n",
    "        exprsco = nesmdb.score.seprsco_to_exprsco(seprsco)\n",
    "        rawsco = nesmdb.score.exprsco_to_rawsco(exprsco)\n",
    "        ndf = nesmdb.score.rawsco_to_ndf(rawsco)\n",
    "        ndr = nesmdb.vgm.ndf_to_ndr(ndf)\n",
    "        vgm = nesmdb.vgm.ndr_to_vgm(ndr)\n",
    "        \n",
    "        with open(os.path.join(folderWrite, fileName.split(\".\")[0]+\".vgm\"), \"w\") as vf:\n",
    "            vf.write(vgm)\n",
    "        subprocess.call([\"vgmplay/VGMPlay.exe\", os.path.abspath(os.path.join(folderWrite, fileName.split(\".\")[0]+\".vgm\"))])\n",
    "            \n",
    "        i +=1"
   ]
  },
  {
   "cell_type": "code",
   "execution_count": 6,
   "metadata": {},
   "outputs": [],
   "source": [
    "convertVGMCSV('saved4CSV/', 'saved4VGMCSV/')"
   ]
  },
  {
   "cell_type": "code",
   "execution_count": 7,
   "metadata": {},
   "outputs": [],
   "source": [
    "convertVGM('saved4/', 'saved4VGM/')"
   ]
  },
  {
   "cell_type": "code",
   "execution_count": null,
   "metadata": {},
   "outputs": [],
   "source": []
  }
 ],
 "metadata": {
  "kernelspec": {
   "display_name": "Python [conda env:py2]",
   "language": "python",
   "name": "conda-env-py2-py"
  },
  "language_info": {
   "codemirror_mode": {
    "name": "ipython",
    "version": 2
   },
   "file_extension": ".py",
   "mimetype": "text/x-python",
   "name": "python",
   "nbconvert_exporter": "python",
   "pygments_lexer": "ipython2",
   "version": "2.7.18"
  }
 },
 "nbformat": 4,
 "nbformat_minor": 4
}
